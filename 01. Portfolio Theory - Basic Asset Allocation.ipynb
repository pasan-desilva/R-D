{
 "cells": [
  {
   "cell_type": "code",
   "execution_count": null,
   "metadata": {
    "id": "lJEC3Gx4hHfI"
   },
   "outputs": [],
   "source": [
    "from pandas_datareader import data as web\n",
    "import pandas as pd\n",
    "import numpy as np\n",
    "from datetime import datetime\n",
    "import matplotlib.pyplot as plt\n",
    "plt.style.use('fivethirtyeight')"
   ]
  },
  {
   "cell_type": "code",
   "execution_count": null,
   "metadata": {
    "id": "eVNUNygrig1T"
   },
   "outputs": [],
   "source": [
    "#Getting the Tickers for the portfolio\n",
    "#5 Stocks from SLP20 Index"
   ]
  },
  {
   "cell_type": "code",
   "execution_count": null,
   "metadata": {
    "id": "Tli9fn0IikqB"
   },
   "outputs": [],
   "source": [
    "assets = ['JKH', 'RELI', 'CARG','DIAL', 'AEL']"
   ]
  },
  {
   "cell_type": "code",
   "execution_count": null,
   "metadata": {
    "id": "d2C3o3kIind4"
   },
   "outputs": [],
   "source": [
    "#Assigning Weights to the stocks\n",
    "weights = np.array([0.2,0.2,0.2,0.2,0.2])"
   ]
  },
  {
   "cell_type": "code",
   "execution_count": null,
   "metadata": {
    "id": "y7bEpPzwio6h"
   },
   "outputs": [],
   "source": [
    "#Stock Start Date\n",
    "stockStartDate = '2019-01-01'\n",
    "\n",
    "#Stock End Date\n",
    "stockEndDate = '2019-12-31'"
   ]
  },
  {
   "cell_type": "code",
   "execution_count": null,
   "metadata": {
    "id": "7Y7DPkH_irw6"
   },
   "outputs": [],
   "source": [
    "#Creating a Dataframe\n",
    "df = pd.DataFrame()\n",
    "\n",
    "#Storing the adjusted close prices into the data frame\n",
    "for stock in assets:\n",
    "    df[stock] = web.DataReader(stock, data_source = 'yahoo', start = stockStartDate, end = stockEndDate)['Adj Close']"
   ]
  },
  {
   "cell_type": "code",
   "execution_count": null,
   "metadata": {
    "colab": {
     "base_uri": "https://localhost:8080/",
     "height": 450
    },
    "id": "lRgxAog6ixwx",
    "outputId": "a58f001e-1104-45e8-eedc-344f1b72f902"
   },
   "outputs": [
    {
     "data": {
      "text/html": [
       "<div>\n",
       "<style scoped>\n",
       "    .dataframe tbody tr th:only-of-type {\n",
       "        vertical-align: middle;\n",
       "    }\n",
       "\n",
       "    .dataframe tbody tr th {\n",
       "        vertical-align: top;\n",
       "    }\n",
       "\n",
       "    .dataframe thead th {\n",
       "        text-align: right;\n",
       "    }\n",
       "</style>\n",
       "<table border=\"1\" class=\"dataframe\">\n",
       "  <thead>\n",
       "    <tr style=\"text-align: right;\">\n",
       "      <th></th>\n",
       "      <th>JKH</th>\n",
       "      <th>RELI</th>\n",
       "      <th>CARG</th>\n",
       "      <th>DIAL</th>\n",
       "      <th>AEL</th>\n",
       "    </tr>\n",
       "    <tr>\n",
       "      <th>Date</th>\n",
       "      <th></th>\n",
       "      <th></th>\n",
       "      <th></th>\n",
       "      <th></th>\n",
       "      <th></th>\n",
       "    </tr>\n",
       "  </thead>\n",
       "  <tbody>\n",
       "    <tr>\n",
       "      <th>2019-01-02</th>\n",
       "      <td>191.959473</td>\n",
       "      <td>0.1550</td>\n",
       "      <td>32.939999</td>\n",
       "      <td>17.771191</td>\n",
       "      <td>27.330048</td>\n",
       "    </tr>\n",
       "    <tr>\n",
       "      <th>2019-01-03</th>\n",
       "      <td>187.548569</td>\n",
       "      <td>0.1588</td>\n",
       "      <td>32.230000</td>\n",
       "      <td>17.846607</td>\n",
       "      <td>27.114771</td>\n",
       "    </tr>\n",
       "    <tr>\n",
       "      <th>2019-01-04</th>\n",
       "      <td>194.598099</td>\n",
       "      <td>0.1749</td>\n",
       "      <td>33.189999</td>\n",
       "      <td>17.856043</td>\n",
       "      <td>28.465128</td>\n",
       "    </tr>\n",
       "    <tr>\n",
       "      <th>2019-01-07</th>\n",
       "      <td>198.501190</td>\n",
       "      <td>0.1620</td>\n",
       "      <td>34.130001</td>\n",
       "      <td>17.903179</td>\n",
       "      <td>28.416204</td>\n",
       "    </tr>\n",
       "    <tr>\n",
       "      <th>2019-01-08</th>\n",
       "      <td>201.538040</td>\n",
       "      <td>0.1675</td>\n",
       "      <td>35.439999</td>\n",
       "      <td>17.931467</td>\n",
       "      <td>28.269424</td>\n",
       "    </tr>\n",
       "    <tr>\n",
       "      <th>...</th>\n",
       "      <td>...</td>\n",
       "      <td>...</td>\n",
       "      <td>...</td>\n",
       "      <td>...</td>\n",
       "      <td>...</td>\n",
       "    </tr>\n",
       "    <tr>\n",
       "      <th>2019-12-24</th>\n",
       "      <td>263.267822</td>\n",
       "      <td>0.3099</td>\n",
       "      <td>36.060001</td>\n",
       "      <td>20.262758</td>\n",
       "      <td>29.358376</td>\n",
       "    </tr>\n",
       "    <tr>\n",
       "      <th>2019-12-26</th>\n",
       "      <td>263.737244</td>\n",
       "      <td>0.2875</td>\n",
       "      <td>35.830002</td>\n",
       "      <td>20.271538</td>\n",
       "      <td>29.506651</td>\n",
       "    </tr>\n",
       "    <tr>\n",
       "      <th>2019-12-27</th>\n",
       "      <td>263.787170</td>\n",
       "      <td>0.3000</td>\n",
       "      <td>35.730000</td>\n",
       "      <td>20.295916</td>\n",
       "      <td>29.229870</td>\n",
       "    </tr>\n",
       "    <tr>\n",
       "      <th>2019-12-30</th>\n",
       "      <td>261.809601</td>\n",
       "      <td>0.3050</td>\n",
       "      <td>35.040001</td>\n",
       "      <td>20.330044</td>\n",
       "      <td>29.368259</td>\n",
       "    </tr>\n",
       "    <tr>\n",
       "      <th>2019-12-31</th>\n",
       "      <td>262.648590</td>\n",
       "      <td>0.3300</td>\n",
       "      <td>35.180000</td>\n",
       "      <td>20.291037</td>\n",
       "      <td>29.585730</td>\n",
       "    </tr>\n",
       "  </tbody>\n",
       "</table>\n",
       "<p>252 rows × 5 columns</p>\n",
       "</div>"
      ],
      "text/plain": [
       "                   JKH    RELI       CARG       DIAL        AEL\n",
       "Date                                                           \n",
       "2019-01-02  191.959473  0.1550  32.939999  17.771191  27.330048\n",
       "2019-01-03  187.548569  0.1588  32.230000  17.846607  27.114771\n",
       "2019-01-04  194.598099  0.1749  33.189999  17.856043  28.465128\n",
       "2019-01-07  198.501190  0.1620  34.130001  17.903179  28.416204\n",
       "2019-01-08  201.538040  0.1675  35.439999  17.931467  28.269424\n",
       "...                ...     ...        ...        ...        ...\n",
       "2019-12-24  263.267822  0.3099  36.060001  20.262758  29.358376\n",
       "2019-12-26  263.737244  0.2875  35.830002  20.271538  29.506651\n",
       "2019-12-27  263.787170  0.3000  35.730000  20.295916  29.229870\n",
       "2019-12-30  261.809601  0.3050  35.040001  20.330044  29.368259\n",
       "2019-12-31  262.648590  0.3300  35.180000  20.291037  29.585730\n",
       "\n",
       "[252 rows x 5 columns]"
      ]
     },
     "execution_count": 7,
     "metadata": {
      "tags": []
     },
     "output_type": "execute_result"
    }
   ],
   "source": [
    "#Displaying the Dataframe\n",
    "df"
   ]
  },
  {
   "cell_type": "code",
   "execution_count": null,
   "metadata": {
    "colab": {
     "base_uri": "https://localhost:8080/",
     "height": 318
    },
    "id": "vGtVWOEPi0pY",
    "outputId": "d3f42438-b675-4d67-dc45-585ebf2cd676"
   },
   "outputs": [
    {
     "data": {
      "text/plain": [
       "<function matplotlib.pyplot.show>"
      ]
     },
     "execution_count": 8,
     "metadata": {
      "tags": []
     },
     "output_type": "execute_result"
    },
    {
     "data": {
      "image/png": "[encoded data removed]",
      "text/plain": [
       "<Figure size 432x288 with 1 Axes>"
      ]
     },
     "metadata": {
      "needs_background": "light",
      "tags": []
     },
     "output_type": "display_data"
    }
   ],
   "source": [
    "#Visualization of Stock portfolio\n",
    "title = 'History of Portfolio Adjusted Close Price'\n",
    "\n",
    "opt_stocks = df\n",
    "\n",
    "#Plotting the Graph\n",
    "for c in opt_stocks.columns.values:\n",
    "    plt.plot(opt_stocks[c], label = c)\n",
    "\n",
    "plt. title(title)\n",
    "plt.xlabel('Year',fontsize = 18)\n",
    "plt.ylabel('Adj.Price USD($)', fontsize = 18)\n",
    "plt.legend(opt_stocks.columns.values, loc = 'upper left')\n",
    "plt.show"
   ]
  },
  {
   "cell_type": "code",
   "execution_count": null,
   "metadata": {
    "colab": {
     "base_uri": "https://localhost:8080/",
     "height": 450
    },
    "id": "9RzoECJqi4sB",
    "outputId": "a9bd3458-818b-4a6b-ec9c-66ea196258e0"
   },
   "outputs": [
    {
     "data": {
      "text/html": [
       "<div>\n",
       "<style scoped>\n",
       "    .dataframe tbody tr th:only-of-type {\n",
       "        vertical-align: middle;\n",
       "    }\n",
       "\n",
       "    .dataframe tbody tr th {\n",
       "        vertical-align: top;\n",
       "    }\n",
       "\n",
       "    .dataframe thead th {\n",
       "        text-align: right;\n",
       "    }\n",
       "</style>\n",
       "<table border=\"1\" class=\"dataframe\">\n",
       "  <thead>\n",
       "    <tr style=\"text-align: right;\">\n",
       "      <th></th>\n",
       "      <th>JKH</th>\n",
       "      <th>RELI</th>\n",
       "      <th>CARG</th>\n",
       "      <th>DIAL</th>\n",
       "      <th>AEL</th>\n",
       "    </tr>\n",
       "    <tr>\n",
       "      <th>Date</th>\n",
       "      <th></th>\n",
       "      <th></th>\n",
       "      <th></th>\n",
       "      <th></th>\n",
       "      <th></th>\n",
       "    </tr>\n",
       "  </thead>\n",
       "  <tbody>\n",
       "    <tr>\n",
       "      <th>2019-01-02</th>\n",
       "      <td>NaN</td>\n",
       "      <td>NaN</td>\n",
       "      <td>NaN</td>\n",
       "      <td>NaN</td>\n",
       "      <td>NaN</td>\n",
       "    </tr>\n",
       "    <tr>\n",
       "      <th>2019-01-03</th>\n",
       "      <td>-0.022978</td>\n",
       "      <td>0.024516</td>\n",
       "      <td>-0.021554</td>\n",
       "      <td>0.004244</td>\n",
       "      <td>-0.007877</td>\n",
       "    </tr>\n",
       "    <tr>\n",
       "      <th>2019-01-04</th>\n",
       "      <td>0.037588</td>\n",
       "      <td>0.101385</td>\n",
       "      <td>0.029786</td>\n",
       "      <td>0.000529</td>\n",
       "      <td>0.049802</td>\n",
       "    </tr>\n",
       "    <tr>\n",
       "      <th>2019-01-07</th>\n",
       "      <td>0.020057</td>\n",
       "      <td>-0.073756</td>\n",
       "      <td>0.028322</td>\n",
       "      <td>0.002640</td>\n",
       "      <td>-0.001719</td>\n",
       "    </tr>\n",
       "    <tr>\n",
       "      <th>2019-01-08</th>\n",
       "      <td>0.015299</td>\n",
       "      <td>0.033951</td>\n",
       "      <td>0.038383</td>\n",
       "      <td>0.001580</td>\n",
       "      <td>-0.005165</td>\n",
       "    </tr>\n",
       "    <tr>\n",
       "      <th>...</th>\n",
       "      <td>...</td>\n",
       "      <td>...</td>\n",
       "      <td>...</td>\n",
       "      <td>...</td>\n",
       "      <td>...</td>\n",
       "    </tr>\n",
       "    <tr>\n",
       "      <th>2019-12-24</th>\n",
       "      <td>0.000607</td>\n",
       "      <td>0.016066</td>\n",
       "      <td>-0.017037</td>\n",
       "      <td>-0.000144</td>\n",
       "      <td>-0.003021</td>\n",
       "    </tr>\n",
       "    <tr>\n",
       "      <th>2019-12-26</th>\n",
       "      <td>0.001783</td>\n",
       "      <td>-0.072281</td>\n",
       "      <td>-0.006378</td>\n",
       "      <td>0.000433</td>\n",
       "      <td>0.005051</td>\n",
       "    </tr>\n",
       "    <tr>\n",
       "      <th>2019-12-27</th>\n",
       "      <td>0.000189</td>\n",
       "      <td>0.043478</td>\n",
       "      <td>-0.002791</td>\n",
       "      <td>0.001203</td>\n",
       "      <td>-0.009380</td>\n",
       "    </tr>\n",
       "    <tr>\n",
       "      <th>2019-12-30</th>\n",
       "      <td>-0.007497</td>\n",
       "      <td>0.016667</td>\n",
       "      <td>-0.019311</td>\n",
       "      <td>0.001682</td>\n",
       "      <td>0.004735</td>\n",
       "    </tr>\n",
       "    <tr>\n",
       "      <th>2019-12-31</th>\n",
       "      <td>0.003205</td>\n",
       "      <td>0.081967</td>\n",
       "      <td>0.003995</td>\n",
       "      <td>-0.001919</td>\n",
       "      <td>0.007405</td>\n",
       "    </tr>\n",
       "  </tbody>\n",
       "</table>\n",
       "<p>252 rows × 5 columns</p>\n",
       "</div>"
      ],
      "text/plain": [
       "                 JKH      RELI      CARG      DIAL       AEL\n",
       "Date                                                        \n",
       "2019-01-02       NaN       NaN       NaN       NaN       NaN\n",
       "2019-01-03 -0.022978  0.024516 -0.021554  0.004244 -0.007877\n",
       "2019-01-04  0.037588  0.101385  0.029786  0.000529  0.049802\n",
       "2019-01-07  0.020057 -0.073756  0.028322  0.002640 -0.001719\n",
       "2019-01-08  0.015299  0.033951  0.038383  0.001580 -0.005165\n",
       "...              ...       ...       ...       ...       ...\n",
       "2019-12-24  0.000607  0.016066 -0.017037 -0.000144 -0.003021\n",
       "2019-12-26  0.001783 -0.072281 -0.006378  0.000433  0.005051\n",
       "2019-12-27  0.000189  0.043478 -0.002791  0.001203 -0.009380\n",
       "2019-12-30 -0.007497  0.016667 -0.019311  0.001682  0.004735\n",
       "2019-12-31  0.003205  0.081967  0.003995 -0.001919  0.007405\n",
       "\n",
       "[252 rows x 5 columns]"
      ]
     },
     "execution_count": 9,
     "metadata": {
      "tags": []
     },
     "output_type": "execute_result"
    }
   ],
   "source": [
    "#Showing the daily simple returns\n",
    "returns = df.pct_change()\n",
    "returns"
   ]
  },
  {
   "cell_type": "code",
   "execution_count": null,
   "metadata": {
    "colab": {
     "base_uri": "https://localhost:8080/",
     "height": 204
    },
    "id": "_AyqMa8Ei653",
    "outputId": "e975a48e-5860-4319-e92f-364ad8a564d6"
   },
   "outputs": [
    {
     "data": {
      "text/html": [
       "<div>\n",
       "<style scoped>\n",
       "    .dataframe tbody tr th:only-of-type {\n",
       "        vertical-align: middle;\n",
       "    }\n",
       "\n",
       "    .dataframe tbody tr th {\n",
       "        vertical-align: top;\n",
       "    }\n",
       "\n",
       "    .dataframe thead th {\n",
       "        text-align: right;\n",
       "    }\n",
       "</style>\n",
       "<table border=\"1\" class=\"dataframe\">\n",
       "  <thead>\n",
       "    <tr style=\"text-align: right;\">\n",
       "      <th></th>\n",
       "      <th>JKH</th>\n",
       "      <th>RELI</th>\n",
       "      <th>CARG</th>\n",
       "      <th>DIAL</th>\n",
       "      <th>AEL</th>\n",
       "    </tr>\n",
       "  </thead>\n",
       "  <tbody>\n",
       "    <tr>\n",
       "      <th>JKH</th>\n",
       "      <td>0.023053</td>\n",
       "      <td>-0.010670</td>\n",
       "      <td>0.024858</td>\n",
       "      <td>0.000080</td>\n",
       "      <td>0.023479</td>\n",
       "    </tr>\n",
       "    <tr>\n",
       "      <th>RELI</th>\n",
       "      <td>-0.010670</td>\n",
       "      <td>1.422321</td>\n",
       "      <td>0.012479</td>\n",
       "      <td>-0.000833</td>\n",
       "      <td>-0.004036</td>\n",
       "    </tr>\n",
       "    <tr>\n",
       "      <th>CARG</th>\n",
       "      <td>0.024858</td>\n",
       "      <td>0.012479</td>\n",
       "      <td>0.113827</td>\n",
       "      <td>0.000280</td>\n",
       "      <td>0.030895</td>\n",
       "    </tr>\n",
       "    <tr>\n",
       "      <th>DIAL</th>\n",
       "      <td>0.000080</td>\n",
       "      <td>-0.000833</td>\n",
       "      <td>0.000280</td>\n",
       "      <td>0.000653</td>\n",
       "      <td>-0.001699</td>\n",
       "    </tr>\n",
       "    <tr>\n",
       "      <th>AEL</th>\n",
       "      <td>0.023479</td>\n",
       "      <td>-0.004036</td>\n",
       "      <td>0.030895</td>\n",
       "      <td>-0.001699</td>\n",
       "      <td>0.106783</td>\n",
       "    </tr>\n",
       "  </tbody>\n",
       "</table>\n",
       "</div>"
      ],
      "text/plain": [
       "           JKH      RELI      CARG      DIAL       AEL\n",
       "JKH   0.023053 -0.010670  0.024858  0.000080  0.023479\n",
       "RELI -0.010670  1.422321  0.012479 -0.000833 -0.004036\n",
       "CARG  0.024858  0.012479  0.113827  0.000280  0.030895\n",
       "DIAL  0.000080 -0.000833  0.000280  0.000653 -0.001699\n",
       "AEL   0.023479 -0.004036  0.030895 -0.001699  0.106783"
      ]
     },
     "execution_count": 10,
     "metadata": {
      "tags": []
     },
     "output_type": "execute_result"
    }
   ],
   "source": [
    "#The Covariance Matrix\n",
    "cov_matrix = returns.cov()*253\n",
    "cov_matrix"
   ]
  },
  {
   "cell_type": "code",
   "execution_count": null,
   "metadata": {
    "colab": {
     "base_uri": "https://localhost:8080/"
    },
    "id": "Vho76Nbni-Qf",
    "outputId": "d3f034a9-4be3-4847-c591-947509083c2d"
   },
   "outputs": [
    {
     "data": {
      "text/plain": [
       "0.0726519614435675"
      ]
     },
     "execution_count": 11,
     "metadata": {
      "tags": []
     },
     "output_type": "execute_result"
    }
   ],
   "source": [
    "#Calculating the portfolio variance\n",
    "port_variance = np.dot(weights.T, np.dot(cov_matrix, weights))\n",
    "port_variance"
   ]
  },
  {
   "cell_type": "code",
   "execution_count": null,
   "metadata": {
    "colab": {
     "base_uri": "https://localhost:8080/"
    },
    "id": "Kwe12zb8i_Vh",
    "outputId": "95dacde7-a6d7-47e5-ce99-03f76927bf1a"
   },
   "outputs": [
    {
     "data": {
      "text/plain": [
       "0.2695402779615089"
      ]
     },
     "execution_count": 12,
     "metadata": {
      "tags": []
     },
     "output_type": "execute_result"
    }
   ],
   "source": [
    "#Portfolio Volatility (Standard Deviation)\n",
    "port_volatility = np.sqrt(port_variance)\n",
    "port_volatility"
   ]
  },
  {
   "cell_type": "code",
   "execution_count": null,
   "metadata": {
    "colab": {
     "base_uri": "https://localhost:8080/"
    },
    "id": "p1fFb_GYjBJb",
    "outputId": "4a1ff4b7-594b-4994-e449-afbda61a454a"
   },
   "outputs": [
    {
     "data": {
      "text/plain": [
       "0.43566653586832277"
      ]
     },
     "execution_count": 13,
     "metadata": {
      "tags": []
     },
     "output_type": "execute_result"
    }
   ],
   "source": [
    "#Annual Portfolio Return\n",
    "port_ann_return = np.sum(returns.mean() * weights * 253)\n",
    "port_ann_return"
   ]
  },
  {
   "cell_type": "code",
   "execution_count": null,
   "metadata": {
    "colab": {
     "base_uri": "https://localhost:8080/"
    },
    "id": "QMJ6rCZgjDM6",
    "outputId": "140dd5d5-b11d-4e35-e79a-63156fc93ca8"
   },
   "outputs": [
    {
     "name": "stdout",
     "output_type": "stream",
     "text": [
      "Expected Annual Return:44.0%\n",
      "Volatility(Associated Risk):27.0%\n",
      "Annual Variance:7.000000000000001%\n"
     ]
    }
   ],
   "source": [
    "#Expected Annual Returns, Volatility (Associated Risk) and Variance\n",
    "percent_var = str(round(port_variance, 2) * 100) + '%'\n",
    "percent_vol = str(round(port_volatility, 2) * 100) + '%'\n",
    "percent_return = str(round(port_ann_return, 2) * 100)+ '%'\n",
    "\n",
    "print('Expected Annual Return:' +percent_return )\n",
    "print('Volatility(Associated Risk):' + percent_vol)\n",
    "print('Annual Variance:' +percent_var )"
   ]
  },
  {
   "cell_type": "code",
   "execution_count": null,
   "metadata": {
    "colab": {
     "base_uri": "https://localhost:8080/"
    },
    "id": "1y0r1dl2jGM3",
    "outputId": "904dc4b0-5c15-4626-fbed-94a0cafcda20"
   },
   "outputs": [
    {
     "name": "stdout",
     "output_type": "stream",
     "text": [
      "Collecting PyPortfolioOpt\n",
      "\u001b[?25l  Downloading https://files.pythonhosted.org/packages/f9/19/1f903f95e2acb95dc4b4275278a7b9f0b2cdae387d815d6219ffb46d6576/PyPortfolioOpt-1.2.7-py3-none-any.whl (48kB)\n",
      "\r",
      "\u001b[K     |██████▊                         | 10kB 20.5MB/s eta 0:00:01\r",
      "\u001b[K     |█████████████▍                  | 20kB 23.8MB/s eta 0:00:01\r",
      "\u001b[K     |████████████████████▏           | 30kB 15.3MB/s eta 0:00:01\r",
      "\u001b[K     |██████████████████████████▉     | 40kB 14.2MB/s eta 0:00:01\r",
      "\u001b[K     |████████████████████████████████| 51kB 4.7MB/s \n",
      "\u001b[?25hRequirement already satisfied: cvxpy<2.0,>=1.0 in /usr/local/lib/python3.6/dist-packages (from PyPortfolioOpt) (1.0.31)\n",
      "Requirement already satisfied: scipy<2.0,>=1.3 in /usr/local/lib/python3.6/dist-packages (from PyPortfolioOpt) (1.4.1)\n",
      "Requirement already satisfied: numpy<2.0,>=1.12 in /usr/local/lib/python3.6/dist-packages (from PyPortfolioOpt) (1.18.5)\n",
      "Requirement already satisfied: pandas>=0.19 in /usr/local/lib/python3.6/dist-packages (from PyPortfolioOpt) (1.1.4)\n",
      "Requirement already satisfied: cvxopt<2.0,>=1.2 in /usr/local/lib/python3.6/dist-packages (from PyPortfolioOpt) (1.2.5)\n",
      "Requirement already satisfied: ecos>=2 in /usr/local/lib/python3.6/dist-packages (from cvxpy<2.0,>=1.0->PyPortfolioOpt) (2.0.7.post1)\n",
      "Requirement already satisfied: osqp>=0.4.1 in /usr/local/lib/python3.6/dist-packages (from cvxpy<2.0,>=1.0->PyPortfolioOpt) (0.6.1)\n",
      "Requirement already satisfied: scs>=1.1.3 in /usr/local/lib/python3.6/dist-packages (from cvxpy<2.0,>=1.0->PyPortfolioOpt) (2.1.2)\n",
      "Requirement already satisfied: multiprocess in /usr/local/lib/python3.6/dist-packages (from cvxpy<2.0,>=1.0->PyPortfolioOpt) (0.70.11.1)\n",
      "Requirement already satisfied: python-dateutil>=2.7.3 in /usr/local/lib/python3.6/dist-packages (from pandas>=0.19->PyPortfolioOpt) (2.8.1)\n",
      "Requirement already satisfied: pytz>=2017.2 in /usr/local/lib/python3.6/dist-packages (from pandas>=0.19->PyPortfolioOpt) (2018.9)\n",
      "Requirement already satisfied: future in /usr/local/lib/python3.6/dist-packages (from osqp>=0.4.1->cvxpy<2.0,>=1.0->PyPortfolioOpt) (0.16.0)\n",
      "Requirement already satisfied: dill>=0.3.3 in /usr/local/lib/python3.6/dist-packages (from multiprocess->cvxpy<2.0,>=1.0->PyPortfolioOpt) (0.3.3)\n",
      "Requirement already satisfied: six>=1.5 in /usr/local/lib/python3.6/dist-packages (from python-dateutil>=2.7.3->pandas>=0.19->PyPortfolioOpt) (1.15.0)\n",
      "Installing collected packages: PyPortfolioOpt\n",
      "Successfully installed PyPortfolioOpt-1.2.7\n"
     ]
    }
   ],
   "source": [
    "pip install PyPortfolioOpt"
   ]
  },
  {
   "cell_type": "code",
   "execution_count": null,
   "metadata": {
    "id": "RfOZzngsjRLq"
   },
   "outputs": [],
   "source": [
    "from pypfopt.efficient_frontier import EfficientFrontier\n",
    "from pypfopt import risk_models\n",
    "from pypfopt import expected_returns"
   ]
  },
  {
   "cell_type": "code",
   "execution_count": null,
   "metadata": {
    "id": "kUskTz7qjSx_"
   },
   "outputs": [],
   "source": [
    "mu = expected_returns.mean_historical_return(df)\n",
    "S = risk_models.sample_cov(df) "
   ]
  },
  {
   "cell_type": "code",
   "execution_count": null,
   "metadata": {
    "colab": {
     "base_uri": "https://localhost:8080/"
    },
    "id": "WLbVcGmtjWAW",
    "outputId": "6c285d9e-0b06-4847-b06f-8cdc1e45e3c5"
   },
   "outputs": [
    {
     "name": "stdout",
     "output_type": "stream",
     "text": [
      "OrderedDict([('JKH', 0.07149), ('RELI', 0.00493), ('CARG', 0.0), ('DIAL', 0.92156), ('AEL', 0.00202)])\n",
      "Expected annual return: 16.3%\n",
      "Annual volatility: 2.6%\n",
      "Sharpe Ratio: 5.42\n"
     ]
    },
    {
     "data": {
      "text/plain": [
       "(0.16344009570360205, 0.02647125785951758, 5.418710983242114)"
      ]
     },
     "execution_count": 18,
     "metadata": {
      "tags": []
     },
     "output_type": "execute_result"
    }
   ],
   "source": [
    "efr = EfficientFrontier(mu, S)\n",
    "weights = efr.max_sharpe() \n",
    "cleaned_weights = efr.clean_weights() \n",
    "print(cleaned_weights) \n",
    "efr.portfolio_performance(verbose=True)"
   ]
  },
  {
   "cell_type": "code",
   "execution_count": null,
   "metadata": {
    "colab": {
     "base_uri": "https://localhost:8080/"
    },
    "id": "F3U2jfSujcce",
    "outputId": "8ce32697-0193-4a06-b013-b41196dffdb8"
   },
   "outputs": [
    {
     "name": "stdout",
     "output_type": "stream",
     "text": [
      "Collecting pulp\n",
      "\u001b[?25l  Downloading https://files.pythonhosted.org/packages/89/0c/6d80f5f81a92d1733cc5ca180491b8a3cd5839e335627a0046c81b7d3d3d/PuLP-2.3.1-py3-none-any.whl (40.6MB)\n",
      "\u001b[K     |████████████████████████████████| 40.6MB 105kB/s \n",
      "\u001b[?25hCollecting amply>=0.1.2\n",
      "  Downloading https://files.pythonhosted.org/packages/f3/c5/dfa09dd2595a2ab2ab4e6fa7bebef9565812722e1980d04b0edce5032066/amply-0.1.4-py3-none-any.whl\n",
      "Requirement already satisfied: pyparsing in /usr/local/lib/python3.6/dist-packages (from amply>=0.1.2->pulp) (2.4.7)\n",
      "Requirement already satisfied: docutils>=0.3 in /usr/local/lib/python3.6/dist-packages (from amply>=0.1.2->pulp) (0.16)\n",
      "Installing collected packages: amply, pulp\n",
      "Successfully installed amply-0.1.4 pulp-2.3.1\n"
     ]
    }
   ],
   "source": [
    "pip install pulp"
   ]
  },
  {
   "cell_type": "code",
   "execution_count": null,
   "metadata": {
    "colab": {
     "base_uri": "https://localhost:8080/"
    },
    "id": "GnWhUcLxjh0Z",
    "outputId": "7c7f5cfc-cea1-4f5b-f85c-338651345b34"
   },
   "outputs": [
    {
     "name": "stdout",
     "output_type": "stream",
     "text": [
      "Discrete allocation: {'JKH': 3, 'RELI': 61, 'DIAL': 453}\n",
      "Funds remaining: $0.08\n"
     ]
    }
   ],
   "source": [
    "from pypfopt.discrete_allocation import DiscreteAllocation, get_latest_prices\n",
    "latest_prices = get_latest_prices(df)\n",
    "weights = cleaned_weights \n",
    "da = DiscreteAllocation(weights, latest_prices, total_portfolio_value=10000)\n",
    "allocation, leftover = da.lp_portfolio()\n",
    "print(\"Discrete allocation:\", allocation)\n",
    "print(\"Funds remaining: ${:.2f}\".format(leftover))"
   ]
  }
 ],
 "metadata": {
  "colab": {
   "collapsed_sections": [],
   "name": "Portfolio Optimization.ipynb",
   "provenance": []
  },
  "kernelspec": {
   "display_name": "Python 3",
   "language": "python",
   "name": "python3"
  },
  "language_info": {
   "codemirror_mode": {
    "name": "ipython",
    "version": 3
   },
   "file_extension": ".py",
   "mimetype": "text/x-python",
   "name": "python",
   "nbconvert_exporter": "python",
   "pygments_lexer": "ipython3",
   "version": "3.8.5"
  }
 },
 "nbformat": 4,
 "nbformat_minor": 1
}
