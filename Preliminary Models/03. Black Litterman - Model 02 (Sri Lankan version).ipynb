{
 "cells": [
  {
   "cell_type": "code",
   "execution_count": 100,
   "metadata": {
    "id": "wCsa9d80Woe2"
   },
   "outputs": [],
   "source": [
    "#Load Packages\n",
    "\n",
    "import numpy as np\n",
    "import pandas as pd\n",
    "import matplotlib.pyplot as plt\n",
    "from datetime import datetime\n",
    "import matplotlib.dates as mdates\n",
    "from pypfopt import black_litterman\n",
    "from pypfopt.black_litterman import BlackLittermanModel\n",
    "from pypfopt.efficient_frontier import EfficientFrontier\n",
    "from pypfopt import black_litterman, risk_models"
   ]
  },
  {
   "cell_type": "code",
   "execution_count": 101,
   "metadata": {
    "colab": {
     "base_uri": "https://localhost:8080/",
     "height": 431
    },
    "id": "fCQX_uXNXojE",
    "outputId": "fbbad75b-8f92-4658-b10e-7f1b666e9b91"
   },
   "outputs": [
    {
     "data": {
      "text/html": [
       "<div>\n",
       "<style scoped>\n",
       "    .dataframe tbody tr th:only-of-type {\n",
       "        vertical-align: middle;\n",
       "    }\n",
       "\n",
       "    .dataframe tbody tr th {\n",
       "        vertical-align: top;\n",
       "    }\n",
       "\n",
       "    .dataframe thead th {\n",
       "        text-align: right;\n",
       "    }\n",
       "</style>\n",
       "<table border=\"1\" class=\"dataframe\">\n",
       "  <thead>\n",
       "    <tr style=\"text-align: right;\">\n",
       "      <th></th>\n",
       "      <th>JKH</th>\n",
       "      <th>SPEN</th>\n",
       "      <th>ACL</th>\n",
       "      <th>AEL</th>\n",
       "      <th>COMB</th>\n",
       "    </tr>\n",
       "    <tr>\n",
       "      <th>Date</th>\n",
       "      <th></th>\n",
       "      <th></th>\n",
       "      <th></th>\n",
       "      <th></th>\n",
       "      <th></th>\n",
       "    </tr>\n",
       "  </thead>\n",
       "  <tbody>\n",
       "    <tr>\n",
       "      <th>18-Dec-17</th>\n",
       "      <td>149.0</td>\n",
       "      <td>55.9</td>\n",
       "      <td>46.0</td>\n",
       "      <td>24.0</td>\n",
       "      <td>133.70</td>\n",
       "    </tr>\n",
       "    <tr>\n",
       "      <th>19-Dec-17</th>\n",
       "      <td>147.8</td>\n",
       "      <td>55.9</td>\n",
       "      <td>45.0</td>\n",
       "      <td>23.5</td>\n",
       "      <td>132.14</td>\n",
       "    </tr>\n",
       "    <tr>\n",
       "      <th>20-Dec-17</th>\n",
       "      <td>148.0</td>\n",
       "      <td>55.5</td>\n",
       "      <td>44.0</td>\n",
       "      <td>23.4</td>\n",
       "      <td>132.14</td>\n",
       "    </tr>\n",
       "    <tr>\n",
       "      <th>21-Dec-17</th>\n",
       "      <td>147.6</td>\n",
       "      <td>55.5</td>\n",
       "      <td>44.5</td>\n",
       "      <td>23.5</td>\n",
       "      <td>132.14</td>\n",
       "    </tr>\n",
       "    <tr>\n",
       "      <th>22-Dec-17</th>\n",
       "      <td>147.8</td>\n",
       "      <td>55.5</td>\n",
       "      <td>44.3</td>\n",
       "      <td>23.7</td>\n",
       "      <td>131.27</td>\n",
       "    </tr>\n",
       "    <tr>\n",
       "      <th>...</th>\n",
       "      <td>...</td>\n",
       "      <td>...</td>\n",
       "      <td>...</td>\n",
       "      <td>...</td>\n",
       "      <td>...</td>\n",
       "    </tr>\n",
       "    <tr>\n",
       "      <th>19-Nov-20</th>\n",
       "      <td>141.0</td>\n",
       "      <td>47.2</td>\n",
       "      <td>60.4</td>\n",
       "      <td>24.1</td>\n",
       "      <td>76.20</td>\n",
       "    </tr>\n",
       "    <tr>\n",
       "      <th>20-Nov-20</th>\n",
       "      <td>141.6</td>\n",
       "      <td>47.3</td>\n",
       "      <td>62.0</td>\n",
       "      <td>24.5</td>\n",
       "      <td>76.30</td>\n",
       "    </tr>\n",
       "    <tr>\n",
       "      <th>23-Nov-20</th>\n",
       "      <td>141.6</td>\n",
       "      <td>47.5</td>\n",
       "      <td>61.9</td>\n",
       "      <td>24.5</td>\n",
       "      <td>76.60</td>\n",
       "    </tr>\n",
       "    <tr>\n",
       "      <th>24-Nov-20</th>\n",
       "      <td>145.5</td>\n",
       "      <td>47.2</td>\n",
       "      <td>62.5</td>\n",
       "      <td>24.3</td>\n",
       "      <td>76.60</td>\n",
       "    </tr>\n",
       "    <tr>\n",
       "      <th>25-Nov-20</th>\n",
       "      <td>148.0</td>\n",
       "      <td>48.2</td>\n",
       "      <td>66.5</td>\n",
       "      <td>23.9</td>\n",
       "      <td>76.40</td>\n",
       "    </tr>\n",
       "  </tbody>\n",
       "</table>\n",
       "<p>675 rows × 5 columns</p>\n",
       "</div>"
      ],
      "text/plain": [
       "             JKH  SPEN   ACL   AEL    COMB\n",
       "Date                                      \n",
       "18-Dec-17  149.0  55.9  46.0  24.0  133.70\n",
       "19-Dec-17  147.8  55.9  45.0  23.5  132.14\n",
       "20-Dec-17  148.0  55.5  44.0  23.4  132.14\n",
       "21-Dec-17  147.6  55.5  44.5  23.5  132.14\n",
       "22-Dec-17  147.8  55.5  44.3  23.7  131.27\n",
       "...          ...   ...   ...   ...     ...\n",
       "19-Nov-20  141.0  47.2  60.4  24.1   76.20\n",
       "20-Nov-20  141.6  47.3  62.0  24.5   76.30\n",
       "23-Nov-20  141.6  47.5  61.9  24.5   76.60\n",
       "24-Nov-20  145.5  47.2  62.5  24.3   76.60\n",
       "25-Nov-20  148.0  48.2  66.5  23.9   76.40\n",
       "\n",
       "[675 rows x 5 columns]"
      ]
     },
     "execution_count": 101,
     "metadata": {
      "tags": []
     },
     "output_type": "execute_result"
    }
   ],
   "source": [
    "#Import data for selected companies \n",
    "\n",
    "df_historical = pd.read_csv(r'Historical Data.csv', index_col = 0)\n",
    "pd.DataFrame(df_historical)"
   ]
  },
  {
   "cell_type": "code",
   "execution_count": 102,
   "metadata": {
    "id": "2JN2K9mckV4m"
   },
   "outputs": [],
   "source": [
    "#Importing historical data of SL20 and bond data\n",
    "\n",
    "df_sl20 = pd.read_csv(r'sl20.csv', index_col=[0])\n",
    "df_tbonds = pd.read_csv(r't_bonds.csv', index_col=[0])"
   ]
  },
  {
   "cell_type": "code",
   "execution_count": 103,
   "metadata": {
    "id": "HdfSJ72bc1Nl"
   },
   "outputs": [],
   "source": [
    "#Importing data of the market and treasury bonds\n",
    "\n",
    "df_sl20 = df_sl20['Market Return']\n",
    "df_tbonds = df_tbonds['Price']"
   ]
  },
  {
   "cell_type": "code",
   "execution_count": 104,
   "metadata": {
    "colab": {
     "base_uri": "https://localhost:8080/",
     "height": 431
    },
    "id": "ne1Yush__RZG",
    "outputId": "04b0cddf-7305-45de-905d-a691701b5d47"
   },
   "outputs": [
    {
     "data": {
      "text/html": [
       "<div>\n",
       "<style scoped>\n",
       "    .dataframe tbody tr th:only-of-type {\n",
       "        vertical-align: middle;\n",
       "    }\n",
       "\n",
       "    .dataframe tbody tr th {\n",
       "        vertical-align: top;\n",
       "    }\n",
       "\n",
       "    .dataframe thead th {\n",
       "        text-align: right;\n",
       "    }\n",
       "</style>\n",
       "<table border=\"1\" class=\"dataframe\">\n",
       "  <thead>\n",
       "    <tr style=\"text-align: right;\">\n",
       "      <th></th>\n",
       "      <th>JKH</th>\n",
       "      <th>SPEN</th>\n",
       "      <th>ACL</th>\n",
       "      <th>AEL</th>\n",
       "      <th>COMB</th>\n",
       "    </tr>\n",
       "    <tr>\n",
       "      <th>Date</th>\n",
       "      <th></th>\n",
       "      <th></th>\n",
       "      <th></th>\n",
       "      <th></th>\n",
       "      <th></th>\n",
       "    </tr>\n",
       "  </thead>\n",
       "  <tbody>\n",
       "    <tr>\n",
       "      <th>18-Dec-17</th>\n",
       "      <td>NaN</td>\n",
       "      <td>NaN</td>\n",
       "      <td>NaN</td>\n",
       "      <td>NaN</td>\n",
       "      <td>NaN</td>\n",
       "    </tr>\n",
       "    <tr>\n",
       "      <th>19-Dec-17</th>\n",
       "      <td>-0.008086</td>\n",
       "      <td>0.000000</td>\n",
       "      <td>-0.021979</td>\n",
       "      <td>-0.021053</td>\n",
       "      <td>-0.011737</td>\n",
       "    </tr>\n",
       "    <tr>\n",
       "      <th>20-Dec-17</th>\n",
       "      <td>0.001352</td>\n",
       "      <td>-0.007181</td>\n",
       "      <td>-0.022473</td>\n",
       "      <td>-0.004264</td>\n",
       "      <td>0.000000</td>\n",
       "    </tr>\n",
       "    <tr>\n",
       "      <th>21-Dec-17</th>\n",
       "      <td>-0.002706</td>\n",
       "      <td>0.000000</td>\n",
       "      <td>0.011300</td>\n",
       "      <td>0.004264</td>\n",
       "      <td>0.000000</td>\n",
       "    </tr>\n",
       "    <tr>\n",
       "      <th>22-Dec-17</th>\n",
       "      <td>0.001354</td>\n",
       "      <td>0.000000</td>\n",
       "      <td>-0.004505</td>\n",
       "      <td>0.008475</td>\n",
       "      <td>-0.006606</td>\n",
       "    </tr>\n",
       "    <tr>\n",
       "      <th>...</th>\n",
       "      <td>...</td>\n",
       "      <td>...</td>\n",
       "      <td>...</td>\n",
       "      <td>...</td>\n",
       "      <td>...</td>\n",
       "    </tr>\n",
       "    <tr>\n",
       "      <th>19-Nov-20</th>\n",
       "      <td>0.000000</td>\n",
       "      <td>-0.006336</td>\n",
       "      <td>-0.021295</td>\n",
       "      <td>-0.028632</td>\n",
       "      <td>0.000000</td>\n",
       "    </tr>\n",
       "    <tr>\n",
       "      <th>20-Nov-20</th>\n",
       "      <td>0.004246</td>\n",
       "      <td>0.002116</td>\n",
       "      <td>0.026145</td>\n",
       "      <td>0.016461</td>\n",
       "      <td>0.001311</td>\n",
       "    </tr>\n",
       "    <tr>\n",
       "      <th>23-Nov-20</th>\n",
       "      <td>0.000000</td>\n",
       "      <td>0.004219</td>\n",
       "      <td>-0.001614</td>\n",
       "      <td>0.000000</td>\n",
       "      <td>0.003924</td>\n",
       "    </tr>\n",
       "    <tr>\n",
       "      <th>24-Nov-20</th>\n",
       "      <td>0.027170</td>\n",
       "      <td>-0.006336</td>\n",
       "      <td>0.009646</td>\n",
       "      <td>-0.008197</td>\n",
       "      <td>0.000000</td>\n",
       "    </tr>\n",
       "    <tr>\n",
       "      <th>25-Nov-20</th>\n",
       "      <td>0.017036</td>\n",
       "      <td>0.020965</td>\n",
       "      <td>0.062035</td>\n",
       "      <td>-0.016598</td>\n",
       "      <td>-0.002614</td>\n",
       "    </tr>\n",
       "  </tbody>\n",
       "</table>\n",
       "<p>675 rows × 5 columns</p>\n",
       "</div>"
      ],
      "text/plain": [
       "                JKH      SPEN       ACL       AEL      COMB\n",
       "Date                                                       \n",
       "18-Dec-17       NaN       NaN       NaN       NaN       NaN\n",
       "19-Dec-17 -0.008086  0.000000 -0.021979 -0.021053 -0.011737\n",
       "20-Dec-17  0.001352 -0.007181 -0.022473 -0.004264  0.000000\n",
       "21-Dec-17 -0.002706  0.000000  0.011300  0.004264  0.000000\n",
       "22-Dec-17  0.001354  0.000000 -0.004505  0.008475 -0.006606\n",
       "...             ...       ...       ...       ...       ...\n",
       "19-Nov-20  0.000000 -0.006336 -0.021295 -0.028632  0.000000\n",
       "20-Nov-20  0.004246  0.002116  0.026145  0.016461  0.001311\n",
       "23-Nov-20  0.000000  0.004219 -0.001614  0.000000  0.003924\n",
       "24-Nov-20  0.027170 -0.006336  0.009646 -0.008197  0.000000\n",
       "25-Nov-20  0.017036  0.020965  0.062035 -0.016598 -0.002614\n",
       "\n",
       "[675 rows x 5 columns]"
      ]
     },
     "execution_count": 104,
     "metadata": {
      "tags": []
     },
     "output_type": "execute_result"
    }
   ],
   "source": [
    "# Calculate percentage change in sl20 market and selected stocks using log for represent data as time additive values.\n",
    "\n",
    "prc_market = df_tbonds.pct_change().apply(lambda x: np.log(1+x))\n",
    "prc_returns = df_historical.pct_change().apply(lambda x: np.log(1+x))\n",
    "prc_returns"
   ]
  },
  {
   "cell_type": "code",
   "execution_count": 105,
   "metadata": {
    "colab": {
     "base_uri": "https://localhost:8080/"
    },
    "id": "7fJBKbz7_iMe",
    "outputId": "b133dedd-6c1f-4f4c-ae21-a5b90c7fb7dc"
   },
   "outputs": [
    {
     "data": {
      "text/plain": [
       "matrix([[241.47596074,  72.07387399,  15.84109518,  11.2681103 ,\n",
       "         201.80724186],\n",
       "        [ 72.07387399,  36.68385045,   1.62424827,   3.93771731,\n",
       "         112.18225363],\n",
       "        [ 15.84109518,   1.62424827,  55.28933179,  21.1005017 ,\n",
       "         -25.0358585 ],\n",
       "        [ 11.2681103 ,   3.93771731,  21.1005017 ,  12.81417795,\n",
       "           3.49505426],\n",
       "        [201.80724186, 112.18225363, -25.0358585 ,   3.49505426,\n",
       "         408.81792585]])"
      ]
     },
     "execution_count": 105,
     "metadata": {
      "tags": []
     },
     "output_type": "execute_result"
    }
   ],
   "source": [
    "#Calculating Covarient Matrix\n",
    "\n",
    "cov_stocks = df_historical.cov()\n",
    "cov_stocks = np.asmatrix(cov_stocks)\n",
    "cov_stocks\n"
   ]
  },
  {
   "cell_type": "code",
   "execution_count": 106,
   "metadata": {
    "colab": {
     "base_uri": "https://localhost:8080/"
    },
    "id": "xzeKlxe5jsUw",
    "outputId": "406f47a1-0d77-4462-f333-e1b4cdaf554f"
   },
   "outputs": [
    {
     "data": {
      "text/plain": [
       "matrix([[0.54897073],\n",
       "        [0.07262728],\n",
       "        [0.07709902],\n",
       "        [0.03739303],\n",
       "        [0.26390995]])"
      ]
     },
     "execution_count": 106,
     "metadata": {
      "tags": []
     },
     "output_type": "execute_result"
    }
   ],
   "source": [
    "#Import market capitalization of selected companies\n",
    "\n",
    "mrkt_cap = pd.read_excel(r'mrkt_cap.xlsx', index_col=[0])\n",
    "mrkt_cap = mrkt_cap['Market Weight']\n",
    "mrkt_cap = np.asmatrix(mrkt_cap)\n",
    "mrkt_cap = np.transpose(mrkt_cap)\n",
    "mrkt_cap"
   ]
  },
  {
   "cell_type": "code",
   "execution_count": 107,
   "metadata": {
    "colab": {
     "base_uri": "https://localhost:8080/"
    },
    "id": "WJrQyimsAZw6",
    "outputId": "29e0bf61-24a9-477d-e5da-7ea28560b744"
   },
   "outputs": [
    {
     "data": {
      "text/plain": [
       "-0.00945210562126599"
      ]
     },
     "execution_count": 107,
     "metadata": {
      "tags": []
     },
     "output_type": "execute_result"
    }
   ],
   "source": [
    "#Calculating risk aversion parameter using pyportfolioopt package\n",
    "\n",
    "delta = black_litterman.market_implied_risk_aversion(df_sl20)\n",
    "delta"
   ]
  },
  {
   "cell_type": "code",
   "execution_count": 108,
   "metadata": {
    "colab": {
     "base_uri": "https://localhost:8080/"
    },
    "id": "N_iW8E35jKJt",
    "outputId": "4088b394-40ab-40ba-e7b6-916884614450"
   },
   "outputs": [
    {
     "data": {
      "text/plain": [
       "matrix([[-1.82141493],\n",
       "        [-0.68158358],\n",
       "        [-0.06861109],\n",
       "        [-0.08979705],\n",
       "        [-2.12696317]])"
      ]
     },
     "execution_count": 108,
     "metadata": {
      "tags": []
     },
     "output_type": "execute_result"
    }
   ],
   "source": [
    "#Calculating prior distribution of the portfolio\n",
    "\n",
    "prior_distribution = delta * cov_stocks * mrkt_cap\n",
    "prior_distribution"
   ]
  },
  {
   "cell_type": "code",
   "execution_count": 109,
   "metadata": {
    "id": "sMrja44xkhi_"
   },
   "outputs": [],
   "source": [
    "#Enter the view vector and the pick matrix\n",
    "\n",
    "Q = np.array([0.06, 0.04, 0.02, -0.01]).reshape(-1, 1)\n",
    "P = np.array(\n",
    "    [\n",
    "        [1, 0, 0, 0, 0],\n",
    "        [0, 1, 0, 0, 0],\n",
    "        [0, 0, 0, 1, 0],\n",
    "        [0, 0, 0, 0, 1]\n",
    "    ]\n",
    ")"
   ]
  },
  {
   "cell_type": "code",
   "execution_count": 110,
   "metadata": {
    "colab": {
     "base_uri": "https://localhost:8080/"
    },
    "id": "G5Xu6LrgqQal",
    "outputId": "ef8ed257-7efa-45a0-a642-5bd8d02a39b1"
   },
   "outputs": [
    {
     "data": {
      "text/plain": [
       "matrix([[ 60.36899019,  18.0184685 ,   2.81702757,  50.45181046],\n",
       "        [ 18.0184685 ,   9.17096261,   0.98442933,  28.04556341],\n",
       "        [  2.81702757,   0.98442933,   3.20354449,   0.87376357],\n",
       "        [ 50.45181046,  28.04556341,   0.87376357, 102.20448146]])"
      ]
     },
     "execution_count": 110,
     "metadata": {
      "tags": []
     },
     "output_type": "execute_result"
    }
   ],
   "source": [
    "#Calculate the omega value\n",
    "\n",
    "tau = 0.25\n",
    "omega = tau * P  * cov_stocks * np.transpose(P)\n",
    "omega"
   ]
  },
  {
   "cell_type": "code",
   "execution_count": 111,
   "metadata": {
    "colab": {
     "base_uri": "https://localhost:8080/"
    },
    "id": "MO7sBe51rDCo",
    "outputId": "2e243da3-91b3-4d2b-e34c-5eb2e11675a4"
   },
   "outputs": [
    {
     "data": {
      "text/plain": [
       "array([[0.0165648 , 0.        , 0.        , 0.        ],\n",
       "       [0.        , 0.10903981, 0.        , 0.        ],\n",
       "       [0.        , 0.        , 0.31215424, 0.        ],\n",
       "       [0.        , 0.        , 0.        , 0.00978431]])"
      ]
     },
     "execution_count": 111,
     "metadata": {
      "tags": []
     },
     "output_type": "execute_result"
    }
   ],
   "source": [
    "#Calculating the inverse of the omega matrix\n",
    "\n",
    "omega_inv = np.diag(1 / np.diag(omega))\n",
    "omega_inv"
   ]
  },
  {
   "cell_type": "code",
   "execution_count": 112,
   "metadata": {
    "colab": {
     "base_uri": "https://localhost:8080/"
    },
    "id": "8LaSVjEt3EkV",
    "outputId": "565f2f7d-49a2-40be-9aee-3693019fb631"
   },
   "outputs": [
    {
     "data": {
      "text/plain": [
       "matrix([[ 0.01062592, -0.02841055, -0.00166587,  0.00146516,  0.00243616],\n",
       "        [-0.02841055,  0.29704761, -0.03835786,  0.01594889, -0.06997266],\n",
       "        [-0.00166587, -0.03835786,  0.06343729, -0.09558481,  0.01605002],\n",
       "        [ 0.00146516,  0.01594889, -0.09558481,  0.23277445, -0.01294334],\n",
       "        [ 0.00243616, -0.06997266,  0.01605002, -0.01294334,  0.021538  ]])"
      ]
     },
     "execution_count": 112,
     "metadata": {
      "tags": []
     },
     "output_type": "execute_result"
    }
   ],
   "source": [
    "tau = 0.25\n",
    "sigma_inv = (np.linalg.inv(cov_stocks))\n",
    "sigma_inv"
   ]
  },
  {
   "cell_type": "code",
   "execution_count": 113,
   "metadata": {
    "colab": {
     "base_uri": "https://localhost:8080/"
    },
    "id": "e8yvW06g3wsX",
    "outputId": "8a1a6cf8-940b-4f77-bafb-7b97e1e5be23"
   },
   "outputs": [
    {
     "data": {
      "text/plain": [
       "matrix([[-1.29723233e-03],\n",
       "        [-1.71620175e-04],\n",
       "        [-1.82187022e-04],\n",
       "        [-8.83607057e-05],\n",
       "        [-6.23626177e-04]])"
      ]
     },
     "execution_count": 113,
     "metadata": {
      "tags": []
     },
     "output_type": "execute_result"
    }
   ],
   "source": [
    "A = tau * sigma_inv * prior_distribution \n",
    "A"
   ]
  },
  {
   "cell_type": "code",
   "execution_count": 114,
   "metadata": {
    "colab": {
     "base_uri": "https://localhost:8080/"
    },
    "id": "fXdp6kw93wgJ",
    "outputId": "52a656d9-7590-46de-be61-d19a893fdf18"
   },
   "outputs": [
    {
     "data": {
      "text/plain": [
       "matrix([[-0.00654291],\n",
       "        [ 0.02140312],\n",
       "        [ 0.03629499],\n",
       "        [ 0.01848966],\n",
       "        [-0.02827384]])"
      ]
     },
     "execution_count": 114,
     "metadata": {
      "tags": []
     },
     "output_type": "execute_result"
    }
   ],
   "source": [
    "p_omega_inv = P.T @ omega_inv\n",
    "tau_sigma_inv = tau * sigma_inv\n",
    "\n",
    "A = tau_sigma_inv + p_omega_inv @ P\n",
    "b = (tau_sigma_inv @ prior_distribution + p_omega_inv @ Q)\n",
    "expected_returns = np.linalg.solve(A, b)\n",
    "expected_returns"
   ]
  },
  {
   "cell_type": "code",
   "execution_count": 115,
   "metadata": {
    "colab": {
     "base_uri": "https://localhost:8080/"
    },
    "id": "ZyCyQwqJsk3f",
    "outputId": "2fb66392-3d92-40a7-dc51-5c3befe2be00"
   },
   "outputs": [
    {
     "data": {
      "text/plain": [
       "matrix([[ 0.04688167],\n",
       "        [ 0.02577105],\n",
       "        [-0.02869512],\n",
       "        [-0.00864402],\n",
       "        [ 0.10701921]])"
      ]
     },
     "execution_count": 115,
     "metadata": {
      "tags": []
     },
     "output_type": "execute_result"
    }
   ],
   "source": [
    "#Calculate the weights for the asstes of the portfolio\n",
    "\n",
    "C = delta * cov_stocks\n",
    "C = np.linalg.inv(C)\n",
    "weights = np.linalg.solve(C, expected_returns)\n",
    "weights"
   ]
  },
  {
   "cell_type": "code",
   "execution_count": null,
   "metadata": {
    "id": "9upFoCcM9mew"
   },
   "outputs": [],
   "source": []
  }
 ],
 "metadata": {
  "colab": {
   "collapsed_sections": [],
   "name": "Black Litterman.ipynb",
   "provenance": []
  },
  "kernelspec": {
   "display_name": "Python 3",
   "language": "python",
   "name": "python3"
  },
  "language_info": {
   "codemirror_mode": {
    "name": "ipython",
    "version": 3
   },
   "file_extension": ".py",
   "mimetype": "text/x-python",
   "name": "python",
   "nbconvert_exporter": "python",
   "pygments_lexer": "ipython3",
   "version": "3.8.5"
  }
 },
 "nbformat": 4,
 "nbformat_minor": 1
}
